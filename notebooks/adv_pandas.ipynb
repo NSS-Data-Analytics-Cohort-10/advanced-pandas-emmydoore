{
 "cells": [
  {
   "cell_type": "code",
   "execution_count": 1,
   "id": "72b3e2ff",
   "metadata": {},
   "outputs": [],
   "source": [
    "import pandas as pd"
   ]
  },
  {
   "cell_type": "markdown",
   "id": "7454d509",
   "metadata": {},
   "source": [
    "1. Read the City Cemetery data into a pandas DataFrame. **Hint:** see the [`read_excel` function](https://pandas.pydata.org/docs/reference/api/pandas.read_excel.html)."
   ]
  },
  {
   "cell_type": "code",
   "execution_count": 6,
   "id": "e1870855",
   "metadata": {},
   "outputs": [],
   "source": [
    "ncc_df=pd.read_excel('C:\\\\Users\\\\emmal\\\\Documents\\\\NSS\\\\Projects\\\\advanced-pandas-emmydoore\\\\data\\\\Historic_Nashville_City_Cemetery_Interments__1846-1979.xlsx')"
   ]
  },
  {
   "cell_type": "code",
   "execution_count": 7,
   "id": "4e2e4462",
   "metadata": {
    "scrolled": false
   },
   "outputs": [
    {
     "name": "stdout",
     "output_type": "stream",
     "text": [
      "<class 'pandas.core.frame.DataFrame'>\n",
      "RangeIndex: 19745 entries, 0 to 19744\n",
      "Data columns (total 14 columns):\n",
      " #   Column                 Non-Null Count  Dtype  \n",
      "---  ------                 --------------  -----  \n",
      " 0   Volume                 19745 non-null  object \n",
      " 1   Name                   19740 non-null  object \n",
      " 2   Burial Month           19706 non-null  object \n",
      " 3   Month No.              19706 non-null  float64\n",
      " 4   Burial Day             19691 non-null  float64\n",
      " 5   Burial Year            19743 non-null  float64\n",
      " 6   Sex                    19503 non-null  object \n",
      " 7   Race                   19698 non-null  object \n",
      " 8   Age                    11071 non-null  float64\n",
      " 9   Residence              19687 non-null  object \n",
      " 10  Cause of Death/Burial  19428 non-null  object \n",
      " 11  Ave                    19092 non-null  object \n",
      " 12  Section/Lot            18625 non-null  object \n",
      " 13  Remarks                16396 non-null  object \n",
      "dtypes: float64(4), object(10)\n",
      "memory usage: 2.1+ MB\n"
     ]
    }
   ],
   "source": [
    "ncc_df.info()"
   ]
  },
  {
   "cell_type": "markdown",
   "id": "ec1b4996",
   "metadata": {},
   "source": [
    "2. **Most Common Causes of Death.**  \n",
    "   b. Clean up some of the misspellings. Use the [`replace` method](https://pandas.pydata.org/docs/reference/api/pandas.DataFrame.replace.html) to clean up some of the causes of death. For example, replace \"Cholrea\" with \"Cholera\" and \"Still Born\" with \"Stillborn\".   \n",
    "   c. After correcting the spellings, find the 10 most common causes of death and create a bar chart to display your findings.  \n"
   ]
  },
  {
   "cell_type": "code",
   "execution_count": 10,
   "id": "c1fe70d0",
   "metadata": {},
   "outputs": [
    {
     "data": {
      "text/plain": [
       "Cause of Death/Burial\n",
       "Consumption     1767\n",
       "Unknown         1260\n",
       "Still Born       841\n",
       "Cholrea          667\n",
       "Not Known        639\n",
       "Old Age          604\n",
       "Cholera          575\n",
       "Pneumonia        516\n",
       "Flux             469\n",
       "Complication     446\n",
       "Name: count, dtype: int64"
      ]
     },
     "execution_count": 10,
     "metadata": {},
     "output_type": "execute_result"
    }
   ],
   "source": [
    "#   a. Find the 10 most common (known) recorded causes of death.  \n",
    "#note: tilde ~ in front of df means NOT \n",
    "ncc_df['Cause of Death/Burial'].value_counts().head(10)"
   ]
  },
  {
   "cell_type": "markdown",
   "id": "987aceb3",
   "metadata": {},
   "source": [
    "**Bonus (Save For Last):** One method of detecting and correcting misspellings is fuzzy matching using metrics like [Levenshtein distance](https://en.wikipedia.org/wiki/Levenshtein_distance). Check out [thefuzz](https://github.com/seatgeek/thefuzz) a library that implements fuzzy matching and apply it to detect and correct misspellings. "
   ]
  },
  {
   "cell_type": "code",
   "execution_count": null,
   "id": "2b21b2f7",
   "metadata": {},
   "outputs": [],
   "source": []
  },
  {
   "cell_type": "markdown",
   "id": "07958a9a",
   "metadata": {},
   "source": [
    "3. Create a line chart showing the number of burials per year.\n"
   ]
  },
  {
   "cell_type": "code",
   "execution_count": null,
   "id": "a884be95",
   "metadata": {},
   "outputs": [],
   "source": []
  },
  {
   "cell_type": "markdown",
   "id": "b6dfa860",
   "metadata": {},
   "source": [
    "4. **Burials per Month and Year**  \n",
    "    a. Use the [crosstab function](https://pandas.pydata.org/docs/reference/api/pandas.crosstab.html) to build a summary table showing the number of burials per year per month. You should have one row per year and one column for month.  \n",
    "    b. After creating this summary table, make sure that the year labels are integers (no decimal part) and that the columns are sorted correctly.  \n",
    "    c. Filter your table to show only the years 1846 through 1860.  \n",
    "    **Bonus** Display your table so that highlights any months that had over 100 burials. Hint: Look at styling in pandas: https://pandas.pydata.org/pandas-docs/version/1.0/user_guide/style.html  \n",
    "    d. Go back to your original DataFrame and filter to the year and month that had the largest number of burials. What are the most common causes of death for that month?\n"
   ]
  },
  {
   "cell_type": "code",
   "execution_count": null,
   "id": "111d199a",
   "metadata": {},
   "outputs": [],
   "source": []
  },
  {
   "cell_type": "markdown",
   "id": "a7ea5666",
   "metadata": {},
   "source": [
    "5. **Burials per Decade**  \n",
    "    a. Create a \"Decade\" column to show the decade in which a burial occurred.    \n",
    "    b. Examine the burials per decade. Look at the total number of burials and the proportion (aka percentage) of male burials and female burials.  \n",
    "    c. Create a clustered bar chart to show how male and female burials have changed over time.\n"
   ]
  },
  {
   "cell_type": "code",
   "execution_count": null,
   "id": "b2066506",
   "metadata": {},
   "outputs": [],
   "source": []
  },
  {
   "cell_type": "markdown",
   "id": "086d6191",
   "metadata": {},
   "source": [
    "### Bonus Questions"
   ]
  },
  {
   "cell_type": "markdown",
   "id": "fccc478a",
   "metadata": {},
   "source": [
    "6. **Burials per Age Group**  \n",
    "    a. Add a column to the original dataset to classify each row to one of the following categories (0-18, 19-25, 26-40, 41-64, and 65+). (Hint: One way to do this is using the [`cut` function](https://pandas.pydata.org/docs/reference/api/pandas.cut.html)).  \n",
    "    b. Create a \"Year Group\" dividing the records up based on burial year. Use the following groups: Before 1880, 1880-1900, 1901-1920, After 1920.  \n",
    "    c. Use a grouped bar chart to show how the proportion of burials per age group has changed over time. How would you describe the trends in terms of proportion of burials per age group over time?\n"
   ]
  },
  {
   "cell_type": "code",
   "execution_count": null,
   "id": "9fbf60cd",
   "metadata": {},
   "outputs": [],
   "source": []
  },
  {
   "cell_type": "markdown",
   "id": "abff6d0a",
   "metadata": {},
   "source": [
    "7. **Last Names**  \n",
    "    a. Create a new column titled Last Name. Extract the last name from the Name column by subsetting to all characters to the left of the comma. (Hint: See the pandas [string split function](https://pandas.pydata.org/docs/reference/api/pandas.Series.str.split.html). When you do this, make sure to consider cases where the name does not contain a comma.  \n",
    "    b. What are the most common last names that appear?\n"
   ]
  },
  {
   "cell_type": "code",
   "execution_count": null,
   "id": "0f7c437b",
   "metadata": {},
   "outputs": [],
   "source": []
  },
  {
   "cell_type": "markdown",
   "id": "b755ef85",
   "metadata": {},
   "source": [
    "8. The Civil War ended in April, 1865, with the last full year of fighting occurring in 1864.    \n",
    "   a. Create a new DataFrame, burials_1864 by subsetting the full data to the rows for 1864 burials.  \n",
    "   b. For any rows whose name contains the word \"infant\" (capitalized or lowercase), replace the \"Age\" value with 0.   \n",
    "   c. Create a new column called age_category. If the individual was age 0 put \"Infant\". If the individual was not an infant but under age 18, put \"Child\". Everyone aged 18 and above should be listed as \"Adult\".  \n",
    "   d.  Find the mean age for each age group.    \n",
    "   e.  Find the last infant to be buried in 1864. Two ways this could be accomplished are sorting by both the month number and burial day or by creating a date column (for example, by using the [`to_datetime` function](https://pandas.pydata.org/docs/reference/api/pandas.to_datetime.html) and then sorting by this date column."
   ]
  },
  {
   "cell_type": "code",
   "execution_count": null,
   "id": "e5e2652b",
   "metadata": {},
   "outputs": [],
   "source": []
  }
 ],
 "metadata": {
  "kernelspec": {
   "display_name": "Python 3 (ipykernel)",
   "language": "python",
   "name": "python3"
  },
  "language_info": {
   "codemirror_mode": {
    "name": "ipython",
    "version": 3
   },
   "file_extension": ".py",
   "mimetype": "text/x-python",
   "name": "python",
   "nbconvert_exporter": "python",
   "pygments_lexer": "ipython3",
   "version": "3.11.5"
  }
 },
 "nbformat": 4,
 "nbformat_minor": 5
}
